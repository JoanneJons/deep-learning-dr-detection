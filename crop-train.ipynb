{
 "cells": [
  {
   "cell_type": "code",
   "execution_count": 1,
   "metadata": {},
   "outputs": [],
   "source": [
    "import numpy as np\n",
    "from PIL import Image\n",
    "import pandas as pd\n",
    "\n",
    "path = './train/'\n",
    "target_path = './crop-train/'\n",
    "\n",
    "target_width = 512\n",
    "target_height = 512"
   ]
  },
  {
   "cell_type": "code",
   "execution_count": 2,
   "metadata": {},
   "outputs": [],
   "source": [
    "df = pd.read_csv('./trainLabels.csv')\n",
    "\n",
    "img_names = df['image']\n",
    "img_label = df['level']"
   ]
  },
  {
   "cell_type": "code",
   "execution_count": 3,
   "metadata": {},
   "outputs": [],
   "source": [
    "def cropImage(im, name):\n",
    "    image_arr = np.array(im)\n",
    "    n_row = image_arr.shape[0]\n",
    "    n_col = image_arr.shape[1]\n",
    "    \n",
    "    s = np.sum(image_arr, axis=(2,0)) / n_col\n",
    "    s = np.round(s, decimals=0)\n",
    "    s = s.astype(np.int64)\n",
    "    \n",
    "    minVal = 10\n",
    "    maxVal = (255 - minVal) * 3\n",
    "    \n",
    "    k = s - minVal\n",
    "    s = np.clip(k, a_min=0, a_max=(maxVal))\n",
    "    \n",
    "    z = np.where(s != 0)[0]\n",
    "    \n",
    "    if z.shape[0] < 2: # image is completely black\n",
    "        print(\"Blank image\")\n",
    "    else:\n",
    "        right_edge = z[z.shape[0]-1]+1\n",
    "        left_edge = z[0,]\n",
    "        w = right_edge - left_edge\n",
    "        \n",
    "        top_edge = 0 # initially top and bottom edges are set as that of image\n",
    "        bottom_edge = n_row\n",
    "        h = bottom_edge - top_edge\n",
    "        \n",
    "        cropped = None\n",
    "        \n",
    "        if n_row > w: # there is space above and below\n",
    "            # find top and bottom edges\n",
    "            \n",
    "            s = np.sum(image_arr, axis=(2,1)) / n_row\n",
    "            s = np.round(s, decimals=0)\n",
    "            s = s.astype(np.int64)\n",
    "            \n",
    "            s = np.clip((s - minVal), a_min=0, a_max=(maxVal))\n",
    "            z = np.where(s != 0)[0]\n",
    "            \n",
    "            bottom_edge = z[z.shape[0]-1]+1\n",
    "            top_edge = z[0,]\n",
    "            h = bottom_edge - top_edge\n",
    "            \n",
    "        else:\n",
    "            pad = int((w - h) / 2)\n",
    "            newRows = np.zeros_like(image_arr[0:pad,])\n",
    "            image_arr = np.vstack((newRows, image_arr))\n",
    "            image_arr = np.vstack((image_arr, newRows))\n",
    "            im = Image.fromarray(image_arr)\n",
    "            bottom_edge = image_arr.shape[0]\n",
    "            \n",
    "        cropped = im.crop((left_edge, top_edge, right_edge, bottom_edge))\n",
    "        cropped = cropped.resize((target_width, target_height))\n",
    "        \n",
    "        cropped.save(target_path + name + '.jpeg')"
   ]
  },
  {
   "cell_type": "code",
   "execution_count": 4,
   "metadata": {},
   "outputs": [
    {
     "name": "stdout",
     "output_type": "stream",
     "text": [
      "Blank image\n",
      "Blank image\n",
      "Blank image\n",
      "Blank image\n"
     ]
    }
   ],
   "source": [
    "for name in img_names:\n",
    "    pil_im = Image.open(path + name + \".jpeg\")\n",
    "    cropImage(pil_im, name)"
   ]
  },
  {
   "cell_type": "code",
   "execution_count": null,
   "metadata": {},
   "outputs": [],
   "source": []
  }
 ],
 "metadata": {
  "kernelspec": {
   "display_name": "Python 3",
   "language": "python",
   "name": "python3"
  },
  "language_info": {
   "codemirror_mode": {
    "name": "ipython",
    "version": 3
   },
   "file_extension": ".py",
   "mimetype": "text/x-python",
   "name": "python",
   "nbconvert_exporter": "python",
   "pygments_lexer": "ipython3",
   "version": "3.7.2"
  }
 },
 "nbformat": 4,
 "nbformat_minor": 2
}
