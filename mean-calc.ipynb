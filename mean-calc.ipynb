{
 "cells": [
  {
   "cell_type": "code",
   "execution_count": 11,
   "metadata": {},
   "outputs": [],
   "source": [
    "import numpy as np\n",
    "import os\n",
    "from PIL import Image\n",
    "import pandas as pd\n",
    "import cv2\n",
    "\n",
    "path = './crop-train/'\n",
    "\n",
    "# f = pd.read_csv('./sample/sample.csv')\n",
    "df = pd.read_csv('./thousand.csv')\n",
    "\n",
    "img_names = df['image']\n",
    "# img_level = df['level']"
   ]
  },
  {
   "cell_type": "code",
   "execution_count": 12,
   "metadata": {},
   "outputs": [
    {
     "name": "stdout",
     "output_type": "stream",
     "text": [
      "99.15564215469361\n",
      "68.90390924453736\n",
      "49.521488990783695\n"
     ]
    }
   ],
   "source": [
    "sum_r = 0\n",
    "sum_g = 0\n",
    "sum_b = 0\n",
    "c = 0\n",
    "\n",
    "for name in img_names:\n",
    "    # image_bgr = cv2.imread(path + name + '.jpeg', cv2.IMREAD_COLOR)\n",
    "    # channels = cv2.mean(image_bgr)\n",
    "    # observation = np.array([(channels[2], channels[1], channels[0])])\n",
    "    \n",
    "    im = Image.open(path + name + \".jpeg\")\n",
    "    im = np.array(im)\n",
    "    im = im.astype(np.int64)\n",
    "    \n",
    "    \n",
    "    c = c + 1\n",
    "    \n",
    "    # print(observation)\n",
    "    \n",
    "    # sum_r += observation[0][0]\n",
    "    # sum_g += observation[0][1]\n",
    "    # sum_b += observation[0][2]\n",
    "    \n",
    "    sum_r += np.mean(im[:,:,0])\n",
    "    sum_g += np.mean(im[:,:,1])\n",
    "    sum_b += np.mean(im[:,:,2])\n",
    "    \n",
    "    \n",
    "avg_r = sum_r / c\n",
    "avg_g = sum_g / c\n",
    "avg_b = sum_b / c\n",
    "\n",
    "print(avg_r)\n",
    "print(avg_g)\n",
    "print(avg_b)\n",
    "\n",
    "# mean of 1000"
   ]
  },
  {
   "cell_type": "code",
   "execution_count": 10,
   "metadata": {},
   "outputs": [
    {
     "name": "stdout",
     "output_type": "stream",
     "text": [
      "108.43592071533203\n",
      "74.20917701721191\n",
      "51.82750625610352\n"
     ]
    }
   ],
   "source": [
    "# mean of 10\n",
    "print(avg_r)\n",
    "print(avg_g)\n",
    "print(avg_b)"
   ]
  },
  {
   "cell_type": "code",
   "execution_count": null,
   "metadata": {},
   "outputs": [],
   "source": []
  }
 ],
 "metadata": {
  "kernelspec": {
   "display_name": "Python 3",
   "language": "python",
   "name": "python3"
  },
  "language_info": {
   "codemirror_mode": {
    "name": "ipython",
    "version": 3
   },
   "file_extension": ".py",
   "mimetype": "text/x-python",
   "name": "python",
   "nbconvert_exporter": "python",
   "pygments_lexer": "ipython3",
   "version": "3.7.2"
  }
 },
 "nbformat": 4,
 "nbformat_minor": 2
}
