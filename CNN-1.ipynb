{
 "cells": [
  {
   "cell_type": "code",
   "execution_count": 9,
   "metadata": {},
   "outputs": [],
   "source": [
    "from keras.models import Sequential\n",
    "from keras.layers import Dense, Conv2D, MaxPooling2D, Dropout, BatchNormalization\n",
    "from PIL import Image"
   ]
  },
  {
   "cell_type": "code",
   "execution_count": 3,
   "metadata": {},
   "outputs": [],
   "source": [
    "IMG_ROWS = 512\n",
    "IMG_COLS = 512"
   ]
  },
  {
   "cell_type": "code",
   "execution_count": 4,
   "metadata": {},
   "outputs": [],
   "source": [
    "model = Sequential()"
   ]
  },
  {
   "cell_type": "code",
   "execution_count": 5,
   "metadata": {},
   "outputs": [
    {
     "name": "stdout",
     "output_type": "stream",
     "text": [
      "WARNING:tensorflow:From /Users/mjons/anaconda3/envs/jo_ml/lib/python3.7/site-packages/tensorflow/python/ops/resource_variable_ops.py:435: colocate_with (from tensorflow.python.framework.ops) is deprecated and will be removed in a future version.\n",
      "Instructions for updating:\n",
      "Colocations handled automatically by placer.\n"
     ]
    }
   ],
   "source": [
    "# TODO: Add BatchNormalization Parameters\n",
    "\n",
    "# 3 x 3 Convolution, 32 Filters, BN, MaxPool\n",
    "model.add(Conv2D(32, (3, 3), activation='relu', input_shape=(IMG_ROWS, IMG_COLS, 1), padding='same'))\n",
    "model.add(BatchNormalization())\n",
    "model.add(MaxPooling2D(pool_size=(3, 3), strides=(2, 2), padding='same'))\n",
    "\n",
    "# 3 x 3 Convolution, 32 Filters, BN, MaxPool\n",
    "model.add((Conv2D(32, (3, 3), activation='relu', padding='same')))\n",
    "model.add(BatchNormalization())\n",
    "model.add(MaxPooling2D(pool_size=(3, 3), strides=(2, 2), padding='same'))\n",
    "\n",
    "# 3 x 3 Convolution, 64 Filters, BN, MaxPool\n",
    "model.add((Conv2D(64, (3, 3), activation='relu', padding='same')))\n",
    "model.add(BatchNormalization())\n",
    "model.add(MaxPooling2D(pool_size=(3, 3), strides=(2, 2), padding='same'))\n",
    "\n",
    "# 3 x 3 Convolution, 64 Filters, BN, MaxPool\n",
    "model.add((Conv2D(64, (3, 3), activation='relu', padding='same')))\n",
    "model.add(BatchNormalization())\n",
    "model.add(MaxPooling2D(pool_size=(3, 3), strides=(2, 2), padding='same'))\n",
    "\n",
    "# 3 x 3 Convolution, 128 Filters, BN, MaxPool\n",
    "model.add((Conv2D(128, (3, 3), activation='relu', padding='same')))\n",
    "model.add(BatchNormalization())\n",
    "model.add(MaxPooling2D(pool_size=(3, 3), strides=(2, 2), padding='same'))\n",
    "\n",
    "# 3 x 3 Convolution, 128 Filters, BN, MaxPool\n",
    "model.add((Conv2D(128, (3, 3), activation='relu', padding='same')))\n",
    "model.add(BatchNormalization())\n",
    "model.add(MaxPooling2D(pool_size=(3, 3), strides=(2, 2), padding='same'))\n",
    "\n",
    "# 3 x 3 Convolution, 256 Filters\n",
    "model.add((Conv2D(256, (3, 3), activation='relu', padding='same')))\n",
    "\n",
    "# 3 x 3 Convolution, 256 Filters, BN, MaxPool\n",
    "model.add((Conv2D(256, (3, 3), activation='relu', padding='same')))\n",
    "model.add(BatchNormalization())\n",
    "model.add(MaxPooling2D(pool_size=(3, 3), strides=(2, 2), padding='same'))\n",
    "\n",
    "# 3 x 3 Convolution, 512 Filters\n",
    "model.add((Conv2D(512, (3, 3), activation='relu', padding='same')))\n",
    "\n",
    "# 3 x 3 Convolution, 512 Filters, BN, MaxPool, Dropout 0.5\n",
    "model.add((Conv2D(512, (3, 3), activation='relu', padding='same')))\n",
    "model.add(BatchNormalization())\n",
    "model.add(MaxPooling2D(pool_size=(3, 3), strides=(2, 2), padding='same'))\n",
    "model.add(Dropout(0.5))\n",
    "\n",
    "# Fully Connected 1024, Dropout 0.5\n",
    "model.add(Dense(1024, activation='relu'))\n",
    "model.add(Dropout(0.5))\n",
    "\n",
    "# Fully Connected 1024\n",
    "model.add(Dense(1024, activation='relu'))\n",
    "\n",
    "# Fully Connected 5 with Softmax\n",
    "model.add(Dense(5, activation='softmax'))    # 5 changed to 2 for binary classification"
   ]
  },
  {
   "cell_type": "code",
   "execution_count": 6,
   "metadata": {},
   "outputs": [],
   "source": [
    "model.compile(optimizer='adam', loss='categorical_crossentropy', metrics=['accuracy'])"
   ]
  },
  {
   "cell_type": "code",
   "execution_count": 14,
   "metadata": {},
   "outputs": [
    {
     "name": "stdout",
     "output_type": "stream",
     "text": [
      "JPEG\n",
      "RGB\n",
      "(512, 512)\n"
     ]
    }
   ],
   "source": [
    "image = Image.open('10_left.jpeg')\n",
    "\n",
    "print(image.format)\n",
    "print(image.mode)\n",
    "print(image.size)\n",
    "image.show()"
   ]
  },
  {
   "cell_type": "code",
   "execution_count": null,
   "metadata": {},
   "outputs": [],
   "source": []
  }
 ],
 "metadata": {
  "kernelspec": {
   "display_name": "Python 3",
   "language": "python",
   "name": "python3"
  },
  "language_info": {
   "codemirror_mode": {
    "name": "ipython",
    "version": 3
   },
   "file_extension": ".py",
   "mimetype": "text/x-python",
   "name": "python",
   "nbconvert_exporter": "python",
   "pygments_lexer": "ipython3",
   "version": "3.7.2"
  }
 },
 "nbformat": 4,
 "nbformat_minor": 2
}
