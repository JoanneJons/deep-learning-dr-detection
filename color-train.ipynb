{
 "cells": [
  {
   "cell_type": "code",
   "execution_count": 1,
   "metadata": {},
   "outputs": [],
   "source": [
    "import numpy as np\n",
    "from PIL import Image\n",
    "import pandas as pd\n",
    "\n",
    "path = './crop-train/'\n",
    "target_path = './color-train/'\n",
    "\n",
    "df = pd.read_csv('./trainLabels-new.csv')\n",
    "\n",
    "img_names = df['image']\n",
    "img_level = df['level']\n",
    "\n",
    "r = 99.15564215469361\n",
    "g = 68.90390924453736\n",
    "b = 49.521488990783695"
   ]
  },
  {
   "cell_type": "code",
   "execution_count": 2,
   "metadata": {},
   "outputs": [],
   "source": [
    "for name in img_names:\n",
    "    \n",
    "    pil_im = Image.open(path + name + \".jpeg\")\n",
    "\n",
    "    img_arr = np.array(pil_im)\n",
    "    img_arr = img_arr.astype(np.int64)\n",
    "\n",
    "    # find average r, g and b values\n",
    "    avg_r = r / np.mean(img_arr[:,:,0]) \n",
    "    avg_g = g / np.mean(img_arr[:,:,1]) \n",
    "    avg_b = b / np.mean(img_arr[:,:,2])  \n",
    "    avg = np.array([avg_r, avg_g, avg_b])\n",
    "    \n",
    "    img_arr = np.multiply(img_arr, avg)\n",
    "    \n",
    "    max_px = np.array([255, 255, 255])\n",
    "    \n",
    "    # find minimum\n",
    "    color_norm = np.minimum(img_arr, max_px)\n",
    "    \n",
    "    # convert\n",
    "    image = Image.fromarray(np.uint8(color_norm)).convert('RGB')\n",
    "    image = Image.fromarray(color_norm.astype('uint8'), 'RGB')\n",
    "    \n",
    "    # save\n",
    "    image.save(target_path + name + '.jpeg')"
   ]
  },
  {
   "cell_type": "code",
   "execution_count": null,
   "metadata": {},
   "outputs": [],
   "source": []
  }
 ],
 "metadata": {
  "kernelspec": {
   "display_name": "Python 3",
   "language": "python",
   "name": "python3"
  },
  "language_info": {
   "codemirror_mode": {
    "name": "ipython",
    "version": 3
   },
   "file_extension": ".py",
   "mimetype": "text/x-python",
   "name": "python",
   "nbconvert_exporter": "python",
   "pygments_lexer": "ipython3",
   "version": "3.7.2"
  }
 },
 "nbformat": 4,
 "nbformat_minor": 2
}
